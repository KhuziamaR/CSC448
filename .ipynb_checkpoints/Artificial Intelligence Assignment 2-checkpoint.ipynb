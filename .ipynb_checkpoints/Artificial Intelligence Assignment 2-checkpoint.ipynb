{
 "cells": [
  {
   "cell_type": "markdown",
   "id": "12c46e52",
   "metadata": {},
   "source": [
    "[![Open In Colab](https://colab.research.google.com/assets/colab-badge.svg)](https://colab.research.google.com/github/KhuziamaR/CSC448/blob/master/Artificial%20Intelligence%20Assignment%202.ipynb)\n"
   ]
  },
  {
   "cell_type": "markdown",
   "id": "55622628",
   "metadata": {},
   "source": [
    "# CSC 44800 Assignment 02 \n",
    "\n",
    "## Name: Khuziama Rehman \n",
    "\n",
    "### All Construct Algorithm\n",
    "\n",
    "Hi everyone! The algorithm below is a optimal solution to a problem that was introduced to me during the CodePath SWE interview prep course. The problem is asking to find all the possible ways to construct a given string using smaller sized strings from a list. This problem helped me understand dynamic programming and how we can use memoization to significantly improve the run time of certain algorithms.\n"
   ]
  },
  {
   "cell_type": "code",
   "execution_count": 5,
   "id": "6db4a9bf",
   "metadata": {},
   "outputs": [
    {
     "name": "stdout",
     "output_type": "stream",
     "text": [
      "Word: purple\n",
      "\n",
      "[['purp', 'le'], ['p', 'ur', 'p', 'le']]\n",
      "\n",
      "Word: Khuziama\n",
      "\n",
      "[['kh', 'uz', 'ia', 'ma'], ['kh', 'uz', 'iama'], ['k', 'hu', 'zia', 'ma'], ['khuzi', 'ama']]\n"
     ]
    }
   ],
   "source": [
    "def allContruct(target,wordBank, memo = dict()):\n",
    "    if target in memo:\n",
    "        return memo[target]\n",
    "    if target == \"\":\n",
    "        return [[]]\n",
    "    result = []\n",
    "    for word in wordBank:\n",
    "        if target.startswith(word):\n",
    "            suffix = target[len(word)::]\n",
    "            suffix_ways = allContruct(suffix,wordBank, memo)\n",
    "            target_ways = map(lambda way: [word,*way],suffix_ways)\n",
    "            result.extend(target_ways)\n",
    "    memo[target] = result\n",
    "    return result\n",
    "\n",
    "print(\"Word: purple\\n\")\n",
    "print(allContruct('purple', ['purp','p','ur','le','purpl']))\n",
    "print(\"\\nWord: Khuziama\\n\")\n",
    "print(allContruct('khuziama', ['kh','uz','ia','ma','k','hu','zia','iama','khuzi','ama']))\n"
   ]
  },
  {
   "cell_type": "markdown",
   "id": "bd99526d",
   "metadata": {},
   "source": [
    "# AI MEME\n",
    "![AI meme](https://miro.medium.com/proxy/1*KBobA-DaVtQ8Px6P_-tNqQ.jpeg)\n",
    "\n"
   ]
  },
  {
   "cell_type": "code",
   "execution_count": null,
   "id": "805b8144",
   "metadata": {},
   "outputs": [],
   "source": []
  }
 ],
 "metadata": {
  "kernelspec": {
   "display_name": "Python 3 (ipykernel)",
   "language": "python",
   "name": "python3"
  },
  "language_info": {
   "codemirror_mode": {
    "name": "ipython",
    "version": 3
   },
   "file_extension": ".py",
   "mimetype": "text/x-python",
   "name": "python",
   "nbconvert_exporter": "python",
   "pygments_lexer": "ipython3",
   "version": "3.9.10"
  }
 },
 "nbformat": 4,
 "nbformat_minor": 5
}
